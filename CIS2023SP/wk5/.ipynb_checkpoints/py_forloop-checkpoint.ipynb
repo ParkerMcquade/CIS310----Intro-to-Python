{
 "cells": [
  {
   "cell_type": "markdown",
   "metadata": {},
   "source": [
    "# Parker McQuade \n",
    "## wk5 02/16/2023 - 02/21/2023\n",
    "### Python Statement For Loop"
   ]
  },
  {
   "cell_type": "markdown",
   "metadata": {},
   "source": [
    "**General for loops format:**\n",
    "\n",
    "<code> for item in object:\n",
    "         statements to execute </code>"
   ]
  },
  {
   "cell_type": "code",
   "execution_count": 1,
   "metadata": {},
   "outputs": [],
   "source": [
    "sc = [68, 87, 90, 89, 92, 78, 88, 75, 79, 85]"
   ]
  },
  {
   "cell_type": "code",
   "execution_count": 2,
   "metadata": {},
   "outputs": [
    {
     "name": "stdout",
     "output_type": "stream",
     "text": [
      "n=  68\n",
      "n=  87\n",
      "n=  90\n",
      "n=  89\n",
      "n=  92\n",
      "n=  78\n",
      "n=  88\n",
      "n=  75\n",
      "n=  79\n",
      "n=  85\n"
     ]
    }
   ],
   "source": [
    "for n in sc:\n",
    "    print(\"n= \",n)"
   ]
  },
  {
   "cell_type": "code",
   "execution_count": 3,
   "metadata": {},
   "outputs": [
    {
     "name": "stdout",
     "output_type": "stream",
     "text": [
      "I   a m   a   s t u d e n t   i n   C I S 3 1 0 ! \n",
      "Done\n"
     ]
    }
   ],
   "source": [
    "for l in \"I am a student in CIS310!\":\n",
    "    print(l, end=\" \")\n",
    "    \n",
    "print(\"\\nDone\")"
   ]
  },
  {
   "cell_type": "code",
   "execution_count": 4,
   "metadata": {},
   "outputs": [
    {
     "data": {
      "text/plain": [
       "[68, 87, 90, 89, 92, 78, 88, 75, 79, 85]"
      ]
     },
     "execution_count": 4,
     "metadata": {},
     "output_type": "execute_result"
    }
   ],
   "source": [
    "sc"
   ]
  },
  {
   "cell_type": "code",
   "execution_count": 5,
   "metadata": {},
   "outputs": [
    {
     "name": "stdout",
     "output_type": "stream",
     "text": [
      "n= 68\n",
      "87 is odd number!\n",
      "n= 90\n",
      "89 is odd number!\n",
      "n= 92\n",
      "n= 78\n",
      "n= 88\n",
      "75 is odd number!\n",
      "79 is odd number!\n",
      "85 is odd number!\n"
     ]
    }
   ],
   "source": [
    "for n in sc:\n",
    "    if n % 2 == 0:\n",
    "        print(\"n=\",n)\n",
    "    else: \n",
    "        print(n, \"is odd number!\")\n",
    "    "
   ]
  },
  {
   "cell_type": "code",
   "execution_count": 6,
   "metadata": {},
   "outputs": [
    {
     "name": "stdout",
     "output_type": "stream",
     "text": [
      "n= 68\n",
      "87 is odd number!\n",
      "n= 90\n",
      "89 is odd number!\n",
      "n= 92\n",
      "n= 78\n",
      "n= 88\n",
      "75 is odd number!\n",
      "79 is odd number!\n",
      "85 is odd number!\n",
      "even list: [68, 90, 92, 78, 88]\n",
      "odd list: [87, 89, 75, 79, 85]\n"
     ]
    }
   ],
   "source": [
    "even = []\n",
    "odd = []\n",
    "for n in sc:\n",
    "    if n % 2 == 0:\n",
    "        print(\"n=\",n)\n",
    "        even.append(n)\n",
    "    else: \n",
    "        print(n, \"is odd number!\")\n",
    "        odd.append(n)\n",
    "        \n",
    "print(\"even list:\", even)\n",
    "print(\"odd list:\", odd)"
   ]
  },
  {
   "cell_type": "code",
   "execution_count": 7,
   "metadata": {},
   "outputs": [
    {
     "data": {
      "text/plain": [
       "[68, 87, 90, 89, 92, 78, 88, 75, 79, 85]"
      ]
     },
     "execution_count": 7,
     "metadata": {},
     "output_type": "execute_result"
    }
   ],
   "source": [
    "sc"
   ]
  },
  {
   "cell_type": "code",
   "execution_count": 8,
   "metadata": {},
   "outputs": [
    {
     "name": "stdout",
     "output_type": "stream",
     "text": [
      "Sum = 831\n"
     ]
    }
   ],
   "source": [
    "sum = 0\n",
    "for n in sc:\n",
    "    sum = sum + n\n",
    "\n",
    "print(\"Sum =\", sum)\n",
    "    "
   ]
  },
  {
   "cell_type": "code",
   "execution_count": 9,
   "metadata": {},
   "outputs": [
    {
     "name": "stdout",
     "output_type": "stream",
     "text": [
      "avg = 83.1\n"
     ]
    }
   ],
   "source": [
    "avg = sum / len(sc) \n",
    "print('avg =', avg)"
   ]
  },
  {
   "cell_type": "code",
   "execution_count": 10,
   "metadata": {},
   "outputs": [
    {
     "name": "stdout",
     "output_type": "stream",
     "text": [
      "5\n",
      "7\n",
      "9\n",
      "10\n",
      "14\n"
     ]
    }
   ],
   "source": [
    "t = (5, 7, 9, 10, 14) \n",
    "for d in t: \n",
    "    print(d)"
   ]
  },
  {
   "cell_type": "code",
   "execution_count": 13,
   "metadata": {},
   "outputs": [],
   "source": [
    "ls1 = [10,30,50,70,90]\n",
    "ls2 = [20,40,60,80,100]\n",
    "ls = list(zip(ls1,ls2))"
   ]
  },
  {
   "cell_type": "code",
   "execution_count": 14,
   "metadata": {},
   "outputs": [
    {
     "data": {
      "text/plain": [
       "[(10, 20), (30, 40), (50, 60), (70, 80), (90, 100)]"
      ]
     },
     "execution_count": 14,
     "metadata": {},
     "output_type": "execute_result"
    }
   ],
   "source": [
    "ls"
   ]
  },
  {
   "cell_type": "code",
   "execution_count": 15,
   "metadata": {},
   "outputs": [
    {
     "name": "stdout",
     "output_type": "stream",
     "text": [
      "(10, 20)\n",
      "(30, 40)\n",
      "(50, 60)\n",
      "(70, 80)\n",
      "(90, 100)\n"
     ]
    }
   ],
   "source": [
    "for t in ls:\n",
    "    print(t)"
   ]
  },
  {
   "cell_type": "code",
   "execution_count": 18,
   "metadata": {},
   "outputs": [
    {
     "name": "stdout",
     "output_type": "stream",
     "text": [
      "t1 =  10 t2 =  20\n",
      "t1 =  30 t2 =  40\n",
      "t1 =  50 t2 =  60\n",
      "t1 =  70 t2 =  80\n",
      "t1 =  90 t2 =  100\n"
     ]
    }
   ],
   "source": [
    "for (t1,t2) in ls:\n",
    "    print('t1 = ', t1, end= ' ')\n",
    "    print('t2 = ', t2)"
   ]
  },
  {
   "cell_type": "code",
   "execution_count": 19,
   "metadata": {},
   "outputs": [
    {
     "name": "stdout",
     "output_type": "stream",
     "text": [
      "{'brand': 'Ford', 'model': 'Mustang:', 'year': 1964}   <class 'dict'>\n"
     ]
    }
   ],
   "source": [
    "# dictionary \n",
    "dt = {\"brand\":\"Ford\", \"model\":\"Mustang:\", \"year\": 1964}\n",
    "print (dt, ' ', type(dt))"
   ]
  },
  {
   "cell_type": "code",
   "execution_count": 20,
   "metadata": {},
   "outputs": [
    {
     "name": "stdout",
     "output_type": "stream",
     "text": [
      "dict_items([('brand', 'Ford'), ('model', 'Mustang:'), ('year', 1964)])\n"
     ]
    }
   ],
   "source": [
    "print(dt.items())"
   ]
  },
  {
   "cell_type": "code",
   "execution_count": 21,
   "metadata": {},
   "outputs": [
    {
     "data": {
      "text/plain": [
       "[('brand', 'Ford'), ('model', 'Mustang:'), ('year', 1964)]"
      ]
     },
     "execution_count": 21,
     "metadata": {},
     "output_type": "execute_result"
    }
   ],
   "source": [
    "list(dt.items())"
   ]
  },
  {
   "cell_type": "code",
   "execution_count": 22,
   "metadata": {},
   "outputs": [
    {
     "data": {
      "text/plain": [
       "(('brand', 'Ford'), ('model', 'Mustang:'), ('year', 1964))"
      ]
     },
     "execution_count": 22,
     "metadata": {},
     "output_type": "execute_result"
    }
   ],
   "source": [
    "tuple(dt.items())"
   ]
  },
  {
   "cell_type": "code",
   "execution_count": 23,
   "metadata": {},
   "outputs": [
    {
     "data": {
      "text/plain": [
       "dict_keys(['brand', 'model', 'year'])"
      ]
     },
     "execution_count": 23,
     "metadata": {},
     "output_type": "execute_result"
    }
   ],
   "source": [
    "dt.keys()"
   ]
  },
  {
   "cell_type": "code",
   "execution_count": 24,
   "metadata": {},
   "outputs": [
    {
     "data": {
      "text/plain": [
       "dict_values(['Ford', 'Mustang:', 1964])"
      ]
     },
     "execution_count": 24,
     "metadata": {},
     "output_type": "execute_result"
    }
   ],
   "source": [
    "dt.values()"
   ]
  },
  {
   "cell_type": "code",
   "execution_count": 25,
   "metadata": {},
   "outputs": [
    {
     "name": "stdout",
     "output_type": "stream",
     "text": [
      "brand\n",
      "model\n",
      "year\n"
     ]
    }
   ],
   "source": [
    "for item in dt:\n",
    "    print(item)"
   ]
  },
  {
   "cell_type": "code",
   "execution_count": 26,
   "metadata": {},
   "outputs": [
    {
     "name": "stdout",
     "output_type": "stream",
     "text": [
      "Key: brand, value: Ford\n",
      "Key: model, value: Mustang:\n",
      "Key: year, value: 1964\n"
     ]
    }
   ],
   "source": [
    "for k,v in dt.items():\n",
    "    print(f'Key: {k}, value: {v}')"
   ]
  },
  {
   "cell_type": "code",
   "execution_count": 27,
   "metadata": {},
   "outputs": [
    {
     "name": "stdout",
     "output_type": "stream",
     "text": [
      "Key: brand\n",
      "Key: model\n",
      "Key: year\n"
     ]
    }
   ],
   "source": [
    "for k,v in dt.items():\n",
    "    print(f'Key: {k}')"
   ]
  },
  {
   "cell_type": "code",
   "execution_count": 28,
   "metadata": {},
   "outputs": [
    {
     "name": "stdout",
     "output_type": "stream",
     "text": [
      "value: Ford\n",
      "value: Mustang:\n",
      "value: 1964\n"
     ]
    }
   ],
   "source": [
    "for k,v in dt.items():\n",
    "    print(f'value: {v}')\n"
   ]
  },
  {
   "cell_type": "code",
   "execution_count": 29,
   "metadata": {},
   "outputs": [
    {
     "name": "stdout",
     "output_type": "stream",
     "text": [
      "90\n",
      "100\n"
     ]
    }
   ],
   "source": [
    "for item in t:\n",
    "    print(item)"
   ]
  },
  {
   "cell_type": "code",
   "execution_count": 30,
   "metadata": {},
   "outputs": [
    {
     "data": {
      "text/plain": [
       "{'CIS200', 'CIS240', 'CIS310', 'CIS340', 'CIS350'}"
      ]
     },
     "execution_count": 30,
     "metadata": {},
     "output_type": "execute_result"
    }
   ],
   "source": [
    "# set \n",
    "s = {'CIS200', 'CIS240', 'CIS310', 'CIS340', 'CIS350'}\n",
    "s"
   ]
  },
  {
   "cell_type": "code",
   "execution_count": 31,
   "metadata": {},
   "outputs": [
    {
     "name": "stdout",
     "output_type": "stream",
     "text": [
      "CIS240\n",
      "CIS340\n",
      "CIS200\n",
      "CIS310\n",
      "CIS350\n"
     ]
    }
   ],
   "source": [
    "for c in s:\n",
    "    print(c)"
   ]
  },
  {
   "cell_type": "code",
   "execution_count": 32,
   "metadata": {},
   "outputs": [
    {
     "name": "stdout",
     "output_type": "stream",
     "text": [
      "Apple\n",
      "Grape\n",
      "Orange\n",
      "Banana\n",
      "Cherry\n",
      "Mango\n"
     ]
    }
   ],
   "source": [
    "# break and continue\n",
    "fruits = ['Apple', 'Grape', 'Orange', 'Banana', 'Cherry', 'Mango']\n",
    "for f in fruits:\n",
    "    print(f)"
   ]
  },
  {
   "cell_type": "code",
   "execution_count": 33,
   "metadata": {},
   "outputs": [
    {
     "name": "stdout",
     "output_type": "stream",
     "text": [
      "Apple\n",
      "Grape\n",
      "Orange\n",
      "Banana\n"
     ]
    }
   ],
   "source": [
    "for f in fruits:\n",
    "    print(f)\n",
    "    if f == 'Banana':\n",
    "        break"
   ]
  },
  {
   "cell_type": "code",
   "execution_count": 36,
   "metadata": {},
   "outputs": [
    {
     "name": "stdout",
     "output_type": "stream",
     "text": [
      "Apple\n",
      "Grape\n",
      "Orange\n"
     ]
    }
   ],
   "source": [
    "for f in fruits:\n",
    "    if f == 'Banana':\n",
    "        break\n",
    "    else:\n",
    "        print(f)"
   ]
  },
  {
   "cell_type": "code",
   "execution_count": 37,
   "metadata": {},
   "outputs": [
    {
     "data": {
      "text/plain": [
       "range(0, 6)"
      ]
     },
     "execution_count": 37,
     "metadata": {},
     "output_type": "execute_result"
    }
   ],
   "source": [
    "range(6)"
   ]
  },
  {
   "cell_type": "code",
   "execution_count": 38,
   "metadata": {},
   "outputs": [
    {
     "name": "stdout",
     "output_type": "stream",
     "text": [
      "0\n",
      "1\n",
      "2\n",
      "3\n",
      "4\n",
      "5\n"
     ]
    }
   ],
   "source": [
    "for num in range(6):\n",
    "    print(num)"
   ]
  },
  {
   "cell_type": "code",
   "execution_count": 39,
   "metadata": {},
   "outputs": [
    {
     "name": "stdout",
     "output_type": "stream",
     "text": [
      "2\n",
      "4\n",
      "6\n",
      "8\n",
      "10\n"
     ]
    }
   ],
   "source": [
    "for num in range(2,11,2):\n",
    "    print(num)"
   ]
  },
  {
   "cell_type": "code",
   "execution_count": 44,
   "metadata": {},
   "outputs": [
    {
     "name": "stdout",
     "output_type": "stream",
     "text": [
      "a= red, f= Apple\n",
      "a= red, f= grape\n",
      "a= red, f= Orange\n",
      "a= red, f= Cherry\n",
      "a= red, f= Mango\n",
      "red -----------------------------------------\n",
      "a= small, f= Apple\n",
      "a= small, f= grape\n",
      "a= small, f= Orange\n",
      "a= small, f= Banana\n",
      "a= small, f= Cherry\n",
      "a= small, f= Mango\n",
      "small -----------------------------------------\n",
      "a= large, f= Apple\n",
      "a= large, f= grape\n",
      "a= large, f= Orange\n",
      "a= large, f= Banana\n",
      "a= large, f= Cherry\n",
      "a= large, f= Mango\n",
      "large -----------------------------------------\n",
      "a= tasty, f= Apple\n",
      "a= tasty, f= grape\n",
      "a= tasty, f= Orange\n",
      "a= tasty, f= Banana\n",
      "a= tasty, f= Cherry\n",
      "a= tasty, f= Mango\n",
      "tasty -----------------------------------------\n"
     ]
    }
   ],
   "source": [
    "# nested for loop\n",
    "adj = ['red','small','large','tasty']\n",
    "fruits = ['Apple', 'grape', 'Orange', 'Banana', 'Cherry','Mango']\n",
    "\n",
    "for a in adj: # outer loop\n",
    "    for f in fruits: # inner loop\n",
    "        if a == 'red' and f == 'Banana':\n",
    "            continue\n",
    "        else:\n",
    "            print(f\"a= {a}, f= {f}\")\n",
    "    print(a, '-----------------------------------------')\n",
    "        "
   ]
  },
  {
   "cell_type": "code",
   "execution_count": 45,
   "metadata": {},
   "outputs": [
    {
     "data": {
      "text/plain": [
       "['Washington', 'Adams', 'Jefferson', 'Madison', 'Monroe', 'Adams', 'Jackson']"
      ]
     },
     "execution_count": 45,
     "metadata": {},
     "output_type": "execute_result"
    }
   ],
   "source": [
    "# how to loop using index\n",
    "names = [\"Washington\", \"Adams\", \"Jefferson\", \"Madison\", \"Monroe\", \"Adams\", \"Jackson\"]\n",
    "names"
   ]
  },
  {
   "cell_type": "code",
   "execution_count": 46,
   "metadata": {},
   "outputs": [
    {
     "data": {
      "text/plain": [
       "7"
      ]
     },
     "execution_count": 46,
     "metadata": {},
     "output_type": "execute_result"
    }
   ],
   "source": [
    "len(names)"
   ]
  },
  {
   "cell_type": "code",
   "execution_count": 47,
   "metadata": {},
   "outputs": [
    {
     "data": {
      "text/plain": [
       "range(0, 7)"
      ]
     },
     "execution_count": 47,
     "metadata": {},
     "output_type": "execute_result"
    }
   ],
   "source": [
    "range(len(names))"
   ]
  },
  {
   "cell_type": "code",
   "execution_count": 49,
   "metadata": {},
   "outputs": [
    {
     "name": "stdout",
     "output_type": "stream",
     "text": [
      "Name index 0: Washington\n",
      "Name index 1: Adams\n",
      "Name index 2: Jefferson\n",
      "Name index 3: Madison\n",
      "Name index 4: Monroe\n",
      "Name index 5: Adams\n",
      "Name index 6: Jackson\n"
     ]
    }
   ],
   "source": [
    "for index in range(len(names)):\n",
    "    print(f'Name index {index}: {names[index]}')"
   ]
  },
  {
   "cell_type": "code",
   "execution_count": 50,
   "metadata": {},
   "outputs": [
    {
     "name": "stdout",
     "output_type": "stream",
     "text": [
      "Name index 1: Washington\n",
      "Name index 2: Adams\n",
      "Name index 3: Jefferson\n",
      "Name index 4: Madison\n",
      "Name index 5: Monroe\n",
      "Name index 6: Adams\n",
      "Name index 7: Jackson\n"
     ]
    }
   ],
   "source": [
    "for index in range(len(names)):\n",
    "    print(f'Name index {index+1}: {names[index]}')"
   ]
  },
  {
   "cell_type": "code",
   "execution_count": 53,
   "metadata": {},
   "outputs": [
    {
     "name": "stdout",
     "output_type": "stream",
     "text": [
      "Name 1: Washington\n",
      "Name 2: Adams\n",
      "Name 3: Jefferson\n",
      "Name 4: Madison\n",
      "Name 5: Monroe\n",
      "Name 6: Adams\n",
      "Name 7: Jackson\n"
     ]
    }
   ],
   "source": [
    "# enumerate\n",
    "for idx, name in enumerate(names,1):\n",
    "    print(f'Name {idx}: {name}')"
   ]
  },
  {
   "cell_type": "code",
   "execution_count": 55,
   "metadata": {},
   "outputs": [
    {
     "name": "stdout",
     "output_type": "stream",
     "text": [
      "20.0% red\n",
      "30.0% green\n",
      "10.0% blue\n",
      "40.0% purple\n"
     ]
    }
   ],
   "source": [
    "#how to loop over multiple things? Without nested loop\n",
    "colors = ['red', 'green', 'blue', 'purple']\n",
    "ratios = [0.2, 0.3, 0.1, 0.4]\n",
    "\n",
    "for i, c in enumerate(colors):\n",
    "    print(f'{ratios[i] * 100}% {c}')"
   ]
  },
  {
   "cell_type": "code",
   "execution_count": 57,
   "metadata": {},
   "outputs": [
    {
     "name": "stdout",
     "output_type": "stream",
     "text": [
      "[('red', 0.2), ('green', 0.3), ('blue', 0.1), ('purple', 0.4)]\n"
     ]
    }
   ],
   "source": [
    "# zip()\n",
    "zipped_lst = list(zip(colors, ratios))\n",
    "print(zipped_lst)"
   ]
  },
  {
   "cell_type": "code",
   "execution_count": 62,
   "metadata": {},
   "outputs": [
    {
     "name": "stdout",
     "output_type": "stream",
     "text": [
      "20.0% red\n",
      "30.0% green\n",
      "10.0% blue\n",
      "40.0% purple\n"
     ]
    }
   ],
   "source": [
    "for c, r in zipped_lst:\n",
    "    print(f'{r * 100}% {c}')"
   ]
  },
  {
   "cell_type": "code",
   "execution_count": null,
   "metadata": {},
   "outputs": [],
   "source": []
  }
 ],
 "metadata": {
  "kernelspec": {
   "display_name": "Python 3.7 - default",
   "language": "python",
   "name": "py37_default"
  },
  "language_info": {
   "codemirror_mode": {
    "name": "ipython",
    "version": 3
   },
   "file_extension": ".py",
   "mimetype": "text/x-python",
   "name": "python",
   "nbconvert_exporter": "python",
   "pygments_lexer": "ipython3",
   "version": "3.7.7"
  }
 },
 "nbformat": 4,
 "nbformat_minor": 4
}
